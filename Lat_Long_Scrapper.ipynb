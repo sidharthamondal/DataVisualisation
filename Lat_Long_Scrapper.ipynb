{
 "cells": [
  {
   "cell_type": "code",
   "execution_count": 1,
   "metadata": {},
   "outputs": [],
   "source": [
    "import pandas as pd \n",
    "import numpy as np\n",
    "from selenium import webdriver\n",
    "import re"
   ]
  },
  {
   "cell_type": "code",
   "execution_count": 3,
   "metadata": {},
   "outputs": [
    {
     "name": "stdout",
     "output_type": "stream",
     "text": [
      "WARNING *** OLE2 inconsistency: SSCS size is 0 but SSAT size is non-zero\n"
     ]
    }
   ],
   "source": [
    "df=pd.read_excel(\"datafile(1).xls\",na_values=\"NA\")"
   ]
  },
  {
   "cell_type": "code",
   "execution_count": 6,
   "metadata": {},
   "outputs": [],
   "source": [
    "df=df.fillna(0)"
   ]
  },
  {
   "cell_type": "code",
   "execution_count": 15,
   "metadata": {},
   "outputs": [],
   "source": [
    "lm=[]\n",
    "for i in range (0,31):\n",
    "    lm.append(df.State[i])"
   ]
  },
  {
   "cell_type": "code",
   "execution_count": 49,
   "metadata": {},
   "outputs": [],
   "source": [
    "df['LatLong']=None"
   ]
  },
  {
   "cell_type": "code",
   "execution_count": 53,
   "metadata": {},
   "outputs": [
    {
     "name": "stderr",
     "output_type": "stream",
     "text": [
      "/home/sidharth/anaconda3/lib/python3.6/site-packages/ipykernel_launcher.py:12: SettingWithCopyWarning: \n",
      "A value is trying to be set on a copy of a slice from a DataFrame\n",
      "\n",
      "See the caveats in the documentation: http://pandas.pydata.org/pandas-docs/stable/indexing.html#indexing-view-versus-copy\n",
      "  if sys.path[0] == '':\n"
     ]
    }
   ],
   "source": [
    "browser=webdriver.Firefox()\n",
    "browser.get(\"https://www.google.com/\")\n",
    "for i in range (0,31):\n",
    "    k=browser.find_element_by_class_name(\"gsfi\")\n",
    "    k.send_keys(\"latitude and longitude\" +\" \"+ lm[i])\n",
    "    search=browser.find_element_by_xpath(\"/html/body/div/div[3]/form/div[2]/div[3]/center/input[1]\")\n",
    "    search.click()\n",
    "    try:\n",
    "        data=browser.find_element_by_class_name(\"Z0LcW\")\n",
    "        m=data.text\n",
    "        m=m.split(\",\")\n",
    "        df['LatLong'][i]=m\n",
    "    except:\n",
    "        pass\n",
    "    browser.back()"
   ]
  },
  {
   "cell_type": "code",
   "execution_count": 107,
   "metadata": {},
   "outputs": [],
   "source": [
    "def lat(val):\n",
    "    try:\n",
    "        s=str(val[0])\n",
    "        s=re.findall(r'\\d+', s)\n",
    "        return(np.float(s[0]+\".\"+s[1]))\n",
    "    \n",
    "    except:\n",
    "        return(np.float(34.083656))"
   ]
  },
  {
   "cell_type": "code",
   "execution_count": 110,
   "metadata": {},
   "outputs": [],
   "source": [
    "def long(val):\n",
    "    try:\n",
    "        s=str(val[1])\n",
    "        s=re.findall(r'\\d+', s)\n",
    "        return(np.float(s[0]+\".\"+s[1]))\n",
    "    \n",
    "    except:\n",
    "        return(np.float(74.797371))"
   ]
  },
  {
   "cell_type": "code",
   "execution_count": 108,
   "metadata": {},
   "outputs": [],
   "source": [
    "df['lat']=df.LatLong.apply(lat)"
   ]
  },
  {
   "cell_type": "code",
   "execution_count": 111,
   "metadata": {},
   "outputs": [],
   "source": [
    "df['long']=df.LatLong.apply(long)"
   ]
  },
  {
   "cell_type": "code",
   "execution_count": 114,
   "metadata": {},
   "outputs": [],
   "source": [
    "df=df.drop('LatLong',axis=1)"
   ]
  },
  {
   "cell_type": "code",
   "execution_count": 117,
   "metadata": {},
   "outputs": [],
   "source": [
    "df=df.drop(index=31,axis=0)"
   ]
  },
  {
   "cell_type": "code",
   "execution_count": 121,
   "metadata": {},
   "outputs": [],
   "source": [
    "df.to_csv(\"State_Univ\",index=False)"
   ]
  },
  {
   "cell_type": "code",
   "execution_count": 2,
   "metadata": {},
   "outputs": [],
   "source": [
    "df=pd.read_csv(\"State_Univ\")"
   ]
  },
  {
   "cell_type": "code",
   "execution_count": 3,
   "metadata": {},
   "outputs": [
    {
     "data": {
      "text/html": [
       "<div>\n",
       "<style scoped>\n",
       "    .dataframe tbody tr th:only-of-type {\n",
       "        vertical-align: middle;\n",
       "    }\n",
       "\n",
       "    .dataframe tbody tr th {\n",
       "        vertical-align: top;\n",
       "    }\n",
       "\n",
       "    .dataframe thead th {\n",
       "        text-align: right;\n",
       "    }\n",
       "</style>\n",
       "<table border=\"1\" class=\"dataframe\">\n",
       "  <thead>\n",
       "    <tr style=\"text-align: right;\">\n",
       "      <th></th>\n",
       "      <th>State</th>\n",
       "      <th>Central University</th>\n",
       "      <th>Central Open University</th>\n",
       "      <th>Institution of National Importance</th>\n",
       "      <th>State Public University</th>\n",
       "      <th>State Open University</th>\n",
       "      <th>State Private University</th>\n",
       "      <th>Institution Established Under State Legislature Act</th>\n",
       "      <th>Government Deemed University</th>\n",
       "      <th>Private Deemed University</th>\n",
       "      <th>Others</th>\n",
       "      <th>Grand Total</th>\n",
       "      <th>lat</th>\n",
       "      <th>long</th>\n",
       "    </tr>\n",
       "  </thead>\n",
       "  <tbody>\n",
       "    <tr>\n",
       "      <th>0</th>\n",
       "      <td>Andhra Pradesh</td>\n",
       "      <td>3.0</td>\n",
       "      <td>0.0</td>\n",
       "      <td>2</td>\n",
       "      <td>30.0</td>\n",
       "      <td>1.0</td>\n",
       "      <td>0.0</td>\n",
       "      <td>2.0</td>\n",
       "      <td>2.0</td>\n",
       "      <td>5.0</td>\n",
       "      <td>1.0</td>\n",
       "      <td>46</td>\n",
       "      <td>15.9129</td>\n",
       "      <td>79.7400</td>\n",
       "    </tr>\n",
       "    <tr>\n",
       "      <th>1</th>\n",
       "      <td>Arunachal Pradesh</td>\n",
       "      <td>1.0</td>\n",
       "      <td>0.0</td>\n",
       "      <td>1</td>\n",
       "      <td>0.0</td>\n",
       "      <td>0.0</td>\n",
       "      <td>0.0</td>\n",
       "      <td>0.0</td>\n",
       "      <td>1.0</td>\n",
       "      <td>0.0</td>\n",
       "      <td>0.0</td>\n",
       "      <td>3</td>\n",
       "      <td>28.2180</td>\n",
       "      <td>94.7278</td>\n",
       "    </tr>\n",
       "    <tr>\n",
       "      <th>2</th>\n",
       "      <td>Assam</td>\n",
       "      <td>2.0</td>\n",
       "      <td>0.0</td>\n",
       "      <td>2</td>\n",
       "      <td>3.0</td>\n",
       "      <td>1.0</td>\n",
       "      <td>1.0</td>\n",
       "      <td>0.0</td>\n",
       "      <td>0.0</td>\n",
       "      <td>0.0</td>\n",
       "      <td>0.0</td>\n",
       "      <td>9</td>\n",
       "      <td>26.2006</td>\n",
       "      <td>92.9376</td>\n",
       "    </tr>\n",
       "    <tr>\n",
       "      <th>3</th>\n",
       "      <td>Bihar</td>\n",
       "      <td>1.0</td>\n",
       "      <td>0.0</td>\n",
       "      <td>2</td>\n",
       "      <td>14.0</td>\n",
       "      <td>1.0</td>\n",
       "      <td>0.0</td>\n",
       "      <td>1.0</td>\n",
       "      <td>1.0</td>\n",
       "      <td>0.0</td>\n",
       "      <td>0.0</td>\n",
       "      <td>20</td>\n",
       "      <td>25.0961</td>\n",
       "      <td>85.3131</td>\n",
       "    </tr>\n",
       "    <tr>\n",
       "      <th>4</th>\n",
       "      <td>Chandigarh</td>\n",
       "      <td>0.0</td>\n",
       "      <td>0.0</td>\n",
       "      <td>1</td>\n",
       "      <td>1.0</td>\n",
       "      <td>0.0</td>\n",
       "      <td>0.0</td>\n",
       "      <td>0.0</td>\n",
       "      <td>1.0</td>\n",
       "      <td>0.0</td>\n",
       "      <td>0.0</td>\n",
       "      <td>3</td>\n",
       "      <td>30.7333</td>\n",
       "      <td>76.7794</td>\n",
       "    </tr>\n",
       "  </tbody>\n",
       "</table>\n",
       "</div>"
      ],
      "text/plain": [
       "               State  Central University  Central Open University  \\\n",
       "0     Andhra Pradesh                 3.0                      0.0   \n",
       "1  Arunachal Pradesh                 1.0                      0.0   \n",
       "2              Assam                 2.0                      0.0   \n",
       "3              Bihar                 1.0                      0.0   \n",
       "4         Chandigarh                 0.0                      0.0   \n",
       "\n",
       "   Institution of National Importance  State Public University  \\\n",
       "0                                   2                     30.0   \n",
       "1                                   1                      0.0   \n",
       "2                                   2                      3.0   \n",
       "3                                   2                     14.0   \n",
       "4                                   1                      1.0   \n",
       "\n",
       "   State Open University  State Private University  \\\n",
       "0                    1.0                       0.0   \n",
       "1                    0.0                       0.0   \n",
       "2                    1.0                       1.0   \n",
       "3                    1.0                       0.0   \n",
       "4                    0.0                       0.0   \n",
       "\n",
       "   Institution Established Under State Legislature Act  \\\n",
       "0                                                2.0     \n",
       "1                                                0.0     \n",
       "2                                                0.0     \n",
       "3                                                1.0     \n",
       "4                                                0.0     \n",
       "\n",
       "   Government Deemed University  Private Deemed University  Others  \\\n",
       "0                           2.0                        5.0     1.0   \n",
       "1                           1.0                        0.0     0.0   \n",
       "2                           0.0                        0.0     0.0   \n",
       "3                           1.0                        0.0     0.0   \n",
       "4                           1.0                        0.0     0.0   \n",
       "\n",
       "   Grand Total      lat     long  \n",
       "0           46  15.9129  79.7400  \n",
       "1            3  28.2180  94.7278  \n",
       "2            9  26.2006  92.9376  \n",
       "3           20  25.0961  85.3131  \n",
       "4            3  30.7333  76.7794  "
      ]
     },
     "execution_count": 3,
     "metadata": {},
     "output_type": "execute_result"
    }
   ],
   "source": [
    "df.head()"
   ]
  },
  {
   "cell_type": "code",
   "execution_count": 60,
   "metadata": {},
   "outputs": [],
   "source": [
    "lm=pd.unique(df['Central University'])\n",
    "lm=sorted(lm)"
   ]
  },
  {
   "cell_type": "code",
   "execution_count": 96,
   "metadata": {},
   "outputs": [],
   "source": [
    "for i in range(len(lm)):\n",
    "    if(lm[i]==0):\n",
    "        k=df.loc[df['Central University']==lm[i]]\n",
    "        label0=list(k.State)\n",
    "        lat0=list(k.lat)\n",
    "        long0=list(k.long)\n",
    "    if(lm[i]==1):\n",
    "        k=df.loc[df['Central University']==lm[i]]\n",
    "        label1=list(k.State)\n",
    "        lat1=list(k.lat)\n",
    "        long1=list(k.long)\n",
    "    if(lm[i]==2):\n",
    "        k=df.loc[df['Central University']==lm[i]]\n",
    "        label2=list(k.State)\n",
    "        lat2=list(k.lat)\n",
    "        long2=list(k.long)\n",
    "    if(lm[i]==3):\n",
    "        k=df.loc[df['Central University']==lm[i]]\n",
    "        label3=list(k.State)\n",
    "        lat3=list(k.lat)\n",
    "        long3=list(k.long)\n",
    "    if(lm[i]==4):\n",
    "        k=df.loc[df['Central University']==lm[i]]\n",
    "        label4=list(k.State)\n",
    "        lat4=list(k.lat)\n",
    "        long4=list(k.long)"
   ]
  },
  {
   "cell_type": "code",
   "execution_count": 99,
   "metadata": {},
   "outputs": [],
   "source": [
    "lm=pd.unique(df['Central Open University'])\n",
    "lm=sorted(lm)\n",
    "for i in range(len(lm)):\n",
    "    if(lm[i]==0):\n",
    "        k=df.loc[df['Central Open University']==lm[i]]\n",
    "        label1=list(k.State)\n",
    "        lat1=list(k.lat)\n",
    "        long1=list(k.long)\n",
    "    if(lm[i]==1):\n",
    "        k=df.loc[df['Central Open University']==lm[i]]\n",
    "        label2=list(k.State)\n",
    "        lat2=list(k.lat)\n",
    "        long2=list(k.long)\n",
    "    "
   ]
  },
  {
   "cell_type": "code",
   "execution_count": 103,
   "metadata": {},
   "outputs": [
    {
     "data": {
      "text/plain": [
       "array([2, 1, 3, 4])"
      ]
     },
     "execution_count": 103,
     "metadata": {},
     "output_type": "execute_result"
    }
   ],
   "source": [
    "pd.unique(df['Institution of National Importance'])"
   ]
  },
  {
   "cell_type": "code",
   "execution_count": 104,
   "metadata": {},
   "outputs": [
    {
     "data": {
      "text/plain": [
       "array([30.,  0.,  3., 14.,  1.,  8.,  5., 21., 10.,  4.,  7., 23., 16.,\n",
       "       18., 12., 19.])"
      ]
     },
     "execution_count": 104,
     "metadata": {},
     "output_type": "execute_result"
    }
   ],
   "source": [
    "pd.unique(df['State Public University'])"
   ]
  },
  {
   "cell_type": "code",
   "execution_count": null,
   "metadata": {},
   "outputs": [],
   "source": [
    "x,y = map(long4, lat4)\n",
    "map.plot(x, y, 'mo', markersize=10)\n",
    "labels = list(df.label4)\n",
    "for label, xpt, ypt in zip(labels, x, y):\n",
    "    plt.text(xpt, ypt, label,weight='heavy',fontsize=10,bbox=dict(facecolor='white', alpha=0.1))\n"
   ]
  },
  {
   "cell_type": "code",
   "execution_count": null,
   "metadata": {},
   "outputs": [],
   "source": [
    "map = Basemap(projection='merc',llcrnrlon=68.1, llcrnrlat= 6.5, urcrnrlon=97.4, urcrnrlat=38, resolution='h')\n",
    "\n",
    "map.drawmapboundary(fill_color='aqua')\n",
    "map.fillcontinents(color='#ddaa66',lake_color='aqua')\n",
    "map.drawcoastlines()\n",
    "\n",
    "# this shapefile taken from \n",
    "# https://www.arcgis.com/home/item.html?id=cf9b387de48248a687aafdd4cdff1127\n",
    "map.readshapefile('india3/INDIA', 'india')\n",
    "# map.readshapefile('india21/India Shape/india_st.shp', 'India_st')\n",
    "x,y = map(long0, lat0)\n",
    "map.plot(x, y, 'ro', markersize=10,marker='o',markeredgecolor=\"black\", markeredgewidth=1)\n",
    "labels = list(label0)\n",
    "for label, xpt, ypt in zip(labels, x, y):\n",
    "    plt.text(xpt, ypt, label,weight='heavy',fontsize=10,bbox=dict(facecolor='white', alpha=0.3))\n",
    "x,y = map(long1, lat1)\n",
    "map.plot(x, y, 'mo', markersize=10,marker='o',markeredgecolor=\"black\", markeredgewidth=1)\n",
    "labels = list(label1)\n",
    "for label, xpt, ypt in zip(labels, x, y):\n",
    "    plt.text(xpt, ypt, label,weight='heavy',fontsize=10,bbox=dict(facecolor='white', alpha=0.3))\n",
    "x,y = map(long2, lat2)\n",
    "map.plot(x, y, 'bo', markersize=10,marker='o',markeredgecolor=\"black\", markeredgewidth=1)\n",
    "labels = list(label2)\n",
    "for label, xpt, ypt in zip(labels, x, y):\n",
    "    plt.text(xpt, ypt, label,weight='heavy',fontsize=10,bbox=dict(facecolor='white', alpha=0.3))\n",
    "x,y = map(long3, lat3)\n",
    "map.plot(x, y, 'yo', markersize=10,marker='o',markeredgecolor=\"black\", markeredgewidth=1)\n",
    "labels = list(label3)\n",
    "for label, xpt, ypt in zip(labels, x, y):\n",
    "    plt.text(xpt, ypt, label,weight='heavy',fontsize=10,bbox=dict(facecolor='white', alpha=0.3))\n",
    "x,y = map(long4, lat4)\n",
    "map.plot(x, y, 'go', markersize=10,marker='o',markeredgecolor=\"black\", markeredgewidth=1)\n",
    "labels = list(label4)\n",
    "for label, xpt, ypt in zip(labels, x, y):\n",
    "    plt.text(xpt, ypt, label,weight='heavy',fontsize=10,bbox=dict(facecolor='white', alpha=0.3))\n",
    "\n",
    "\n",
    "\n",
    "# Change plot size and font size\n",
    "plt.rcParams['figure.figsize'] = (20,15)\n",
    "plt.rcParams.update({'font.size': 20})\n",
    "plt.show()"
   ]
  }
 ],
 "metadata": {
  "kernelspec": {
   "display_name": "Python 3",
   "language": "python",
   "name": "python3"
  },
  "language_info": {
   "codemirror_mode": {
    "name": "ipython",
    "version": 3
   },
   "file_extension": ".py",
   "mimetype": "text/x-python",
   "name": "python",
   "nbconvert_exporter": "python",
   "pygments_lexer": "ipython3",
   "version": "3.6.5"
  }
 },
 "nbformat": 4,
 "nbformat_minor": 2
}
