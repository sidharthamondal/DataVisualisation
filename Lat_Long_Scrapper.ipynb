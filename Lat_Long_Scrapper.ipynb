{
 "cells": [
  {
   "cell_type": "markdown",
   "metadata": {},
   "source": [
    "# WEB scrapping latitude and Longitude for Indian States from google Search"
   ]
  },
  {
   "cell_type": "markdown",
   "metadata": {},
   "source": [
    "## Importing Libraries"
   ]
  },
  {
   "cell_type": "code",
   "execution_count": null,
   "metadata": {},
   "outputs": [],
   "source": [
    "import pandas as pd \n",
    "import numpy as np\n",
    "from selenium import webdriver\n",
    "import re"
   ]
  },
  {
   "cell_type": "markdown",
   "metadata": {},
   "source": [
    "## Importing Original File"
   ]
  },
  {
   "cell_type": "code",
   "execution_count": 3,
   "metadata": {},
   "outputs": [
    {
     "name": "stdout",
     "output_type": "stream",
     "text": [
      "WARNING *** OLE2 inconsistency: SSCS size is 0 but SSAT size is non-zero\n"
     ]
    }
   ],
   "source": [
    "df=pd.read_excel(\"datafile(1).xls\",na_values=\"NA\")"
   ]
  },
  {
   "cell_type": "code",
   "execution_count": 6,
   "metadata": {},
   "outputs": [],
   "source": [
    "df=df.fillna(0)"
   ]
  },
  {
   "cell_type": "markdown",
   "metadata": {},
   "source": [
    "## Creating the list of States"
   ]
  },
  {
   "cell_type": "code",
   "execution_count": 15,
   "metadata": {},
   "outputs": [],
   "source": [
    "lm=[]\n",
    "for i in range (0,31):\n",
    "    lm.append(df.State[i])"
   ]
  },
  {
   "cell_type": "code",
   "execution_count": 49,
   "metadata": {},
   "outputs": [],
   "source": [
    "df['LatLong']=None"
   ]
  },
  {
   "cell_type": "markdown",
   "metadata": {},
   "source": [
    "## Web Scrapping Script\n",
    "\n",
    "Here I am sending the State in the google Search bar and the clicking the search button the results that are \n",
    "coming is being stored in form of list \n",
    "\n",
    "after it the browser goes back to google search engine "
   ]
  },
  {
   "cell_type": "code",
   "execution_count": 53,
   "metadata": {},
   "outputs": [
    {
     "name": "stderr",
     "output_type": "stream",
     "text": [
      "/home/sidharth/anaconda3/lib/python3.6/site-packages/ipykernel_launcher.py:12: SettingWithCopyWarning: \n",
      "A value is trying to be set on a copy of a slice from a DataFrame\n",
      "\n",
      "See the caveats in the documentation: http://pandas.pydata.org/pandas-docs/stable/indexing.html#indexing-view-versus-copy\n",
      "  if sys.path[0] == '':\n"
     ]
    }
   ],
   "source": [
    "browser=webdriver.Firefox()\n",
    "browser.get(\"https://www.google.com/\")\n",
    "for i in range (0,31):\n",
    "    k=browser.find_element_by_class_name(\"gsfi\")\n",
    "    k.send_keys(\"latitude and longitude\" +\" \"+ lm[i])\n",
    "    search=browser.find_element_by_xpath(\"/html/body/div/div[3]/form/div[2]/div[3]/center/input[1]\")\n",
    "    search.click()\n",
    "    try:\n",
    "        data=browser.find_element_by_class_name(\"Z0LcW\")\n",
    "        m=data.text\n",
    "        m=m.split(\",\")\n",
    "        df['LatLong'][i]=m\n",
    "    except:\n",
    "        pass\n",
    "    browser.back()"
   ]
  },
  {
   "cell_type": "markdown",
   "metadata": {},
   "source": [
    "## A bit of Cleaning of the Scaraped Data "
   ]
  },
  {
   "cell_type": "code",
   "execution_count": 107,
   "metadata": {},
   "outputs": [],
   "source": [
    "def lat(val):\n",
    "    try:\n",
    "        s=str(val[0])\n",
    "        s=re.findall(r'\\d+', s)\n",
    "        return(np.float(s[0]+\".\"+s[1]))\n",
    "    \n",
    "    except:\n",
    "        return(np.float(34.083656))"
   ]
  },
  {
   "cell_type": "code",
   "execution_count": 110,
   "metadata": {},
   "outputs": [],
   "source": [
    "def long(val):\n",
    "    try:\n",
    "        s=str(val[1])\n",
    "        s=re.findall(r'\\d+', s)\n",
    "        return(np.float(s[0]+\".\"+s[1]))\n",
    "    \n",
    "    except:\n",
    "        return(np.float(74.797371))"
   ]
  },
  {
   "cell_type": "markdown",
   "metadata": {},
   "source": [
    "## Adding it to the DataFrame\n"
   ]
  },
  {
   "cell_type": "code",
   "execution_count": 108,
   "metadata": {},
   "outputs": [],
   "source": [
    "df['lat']=df.LatLong.apply(lat)"
   ]
  },
  {
   "cell_type": "code",
   "execution_count": 111,
   "metadata": {},
   "outputs": [],
   "source": [
    "df['long']=df.LatLong.apply(long)"
   ]
  },
  {
   "cell_type": "code",
   "execution_count": 114,
   "metadata": {},
   "outputs": [],
   "source": [
    "df=df.drop('LatLong',axis=1)"
   ]
  },
  {
   "cell_type": "code",
   "execution_count": 117,
   "metadata": {},
   "outputs": [],
   "source": [
    "df=df.drop(index=31,axis=0)"
   ]
  },
  {
   "cell_type": "markdown",
   "metadata": {},
   "source": [
    "## Pushing the File as CSV format"
   ]
  },
  {
   "cell_type": "code",
   "execution_count": 121,
   "metadata": {},
   "outputs": [],
   "source": [
    "df.to_csv(\"State_Univ\",index=False)"
   ]
  }
 ],
 "metadata": {
  "kernelspec": {
   "display_name": "Python 3",
   "language": "python",
   "name": "python3"
  },
  "language_info": {
   "codemirror_mode": {
    "name": "ipython",
    "version": 3
   },
   "file_extension": ".py",
   "mimetype": "text/x-python",
   "name": "python",
   "nbconvert_exporter": "python",
   "pygments_lexer": "ipython3",
   "version": "3.6.5"
  }
 },
 "nbformat": 4,
 "nbformat_minor": 2
}
